{
 "cells": [
  {
   "attachments": {},
   "cell_type": "markdown",
   "id": "f417b3bd-f6b2-412d-b4e3-9b5e018d607f",
   "metadata": {},
   "source": [
    "# Урок 9. Python применение продвинутых методов\n",
    "Оцените результаты эксперимента :\r\n",
    "Стат значимо ли отличается метрика конверсии в двух группах ? Какие рекомендации дадите менеджеру? \n",
    "  \n",
    "About this file  \r\n",
    "For this project, you will be working to understand the results of an A/B test run by an e-commerce website. The company has developed a new web page in order to try and increase the number of users who \"convert,\" meaning the number of users who decide to pay for the company's product. Your goal is to work through this notebook to help the company understand if they should implement this new page, keep the old page, or perhaps run the experiment longer to make their decision \n",
    "  \n",
    "Об этом файле  \n",
    "В этом проекте вы будете работать над тем, чтобы понять результаты A/B-тестирования, проведенного веб-сайтом электронной коммерции. Компания разработала новую веб-страницу, чтобы попытаться увеличить количество пользователей, которые «конвертируют», то есть количество пользователей, которые решили заплатить за продукт компании. Ваша цель — проработать этот блокнот, чтобы помочь компании понять, следует ли ей внедрить эту новую страницу, оставить старую страницу или, возможно, провести эксперимент дольше, чтобы принять решение..ts"
   ]
  },
  {
   "cell_type": "markdown",
   "id": "a7b4ba36-0a4d-4f33-9ea1-42a19796a8ed",
   "metadata": {},
   "source": [
    "*__Подготовка и анализ начальных данных.__*"
   ]
  },
  {
   "cell_type": "code",
   "execution_count": 1,
   "id": "7259aa14-740a-4b67-a3c4-ede7647195f7",
   "metadata": {},
   "outputs": [],
   "source": [
    "import pandas as pd"
   ]
  },
  {
   "cell_type": "code",
   "execution_count": 2,
   "id": "e95ca5c1-7d9a-4e21-bf3f-14cebae7936c",
   "metadata": {},
   "outputs": [
    {
     "data": {
      "text/html": [
       "<div>\n",
       "<style scoped>\n",
       "    .dataframe tbody tr th:only-of-type {\n",
       "        vertical-align: middle;\n",
       "    }\n",
       "\n",
       "    .dataframe tbody tr th {\n",
       "        vertical-align: top;\n",
       "    }\n",
       "\n",
       "    .dataframe thead th {\n",
       "        text-align: right;\n",
       "    }\n",
       "</style>\n",
       "<table border=\"1\" class=\"dataframe\">\n",
       "  <thead>\n",
       "    <tr style=\"text-align: right;\">\n",
       "      <th></th>\n",
       "      <th>id</th>\n",
       "      <th>time</th>\n",
       "      <th>con_treat</th>\n",
       "      <th>page</th>\n",
       "      <th>converted</th>\n",
       "    </tr>\n",
       "  </thead>\n",
       "  <tbody>\n",
       "    <tr>\n",
       "      <th>0</th>\n",
       "      <td>851104</td>\n",
       "      <td>11:48.6</td>\n",
       "      <td>control</td>\n",
       "      <td>old_page</td>\n",
       "      <td>0</td>\n",
       "    </tr>\n",
       "    <tr>\n",
       "      <th>1</th>\n",
       "      <td>804228</td>\n",
       "      <td>01:45.2</td>\n",
       "      <td>control</td>\n",
       "      <td>old_page</td>\n",
       "      <td>0</td>\n",
       "    </tr>\n",
       "    <tr>\n",
       "      <th>2</th>\n",
       "      <td>661590</td>\n",
       "      <td>55:06.2</td>\n",
       "      <td>treatment</td>\n",
       "      <td>new_page</td>\n",
       "      <td>0</td>\n",
       "    </tr>\n",
       "    <tr>\n",
       "      <th>3</th>\n",
       "      <td>853541</td>\n",
       "      <td>28:03.1</td>\n",
       "      <td>treatment</td>\n",
       "      <td>new_page</td>\n",
       "      <td>0</td>\n",
       "    </tr>\n",
       "    <tr>\n",
       "      <th>4</th>\n",
       "      <td>864975</td>\n",
       "      <td>52:26.2</td>\n",
       "      <td>control</td>\n",
       "      <td>old_page</td>\n",
       "      <td>1</td>\n",
       "    </tr>\n",
       "    <tr>\n",
       "      <th>5</th>\n",
       "      <td>936923</td>\n",
       "      <td>20:49.1</td>\n",
       "      <td>control</td>\n",
       "      <td>old_page</td>\n",
       "      <td>0</td>\n",
       "    </tr>\n",
       "    <tr>\n",
       "      <th>6</th>\n",
       "      <td>679687</td>\n",
       "      <td>26:46.9</td>\n",
       "      <td>treatment</td>\n",
       "      <td>new_page</td>\n",
       "      <td>1</td>\n",
       "    </tr>\n",
       "    <tr>\n",
       "      <th>7</th>\n",
       "      <td>719014</td>\n",
       "      <td>48:29.5</td>\n",
       "      <td>control</td>\n",
       "      <td>old_page</td>\n",
       "      <td>0</td>\n",
       "    </tr>\n",
       "    <tr>\n",
       "      <th>8</th>\n",
       "      <td>817355</td>\n",
       "      <td>58:09.0</td>\n",
       "      <td>treatment</td>\n",
       "      <td>new_page</td>\n",
       "      <td>1</td>\n",
       "    </tr>\n",
       "    <tr>\n",
       "      <th>9</th>\n",
       "      <td>839785</td>\n",
       "      <td>11:06.6</td>\n",
       "      <td>treatment</td>\n",
       "      <td>new_page</td>\n",
       "      <td>1</td>\n",
       "    </tr>\n",
       "  </tbody>\n",
       "</table>\n",
       "</div>"
      ],
      "text/plain": [
       "       id     time  con_treat      page  converted\n",
       "0  851104  11:48.6    control  old_page          0\n",
       "1  804228  01:45.2    control  old_page          0\n",
       "2  661590  55:06.2  treatment  new_page          0\n",
       "3  853541  28:03.1  treatment  new_page          0\n",
       "4  864975  52:26.2    control  old_page          1\n",
       "5  936923  20:49.1    control  old_page          0\n",
       "6  679687  26:46.9  treatment  new_page          1\n",
       "7  719014  48:29.5    control  old_page          0\n",
       "8  817355  58:09.0  treatment  new_page          1\n",
       "9  839785  11:06.6  treatment  new_page          1"
      ]
     },
     "execution_count": 2,
     "metadata": {},
     "output_type": "execute_result"
    }
   ],
   "source": [
    "data = pd.read_excel('a_b test ecom.xlsx')\n",
    "\n",
    "data.head(10)"
   ]
  },
  {
   "cell_type": "code",
   "execution_count": 3,
   "id": "6e715a83-f4a7-4cee-b2ba-6536496ec856",
   "metadata": {},
   "outputs": [
    {
     "name": "stdout",
     "output_type": "stream",
     "text": [
      "<class 'pandas.core.frame.DataFrame'>\n",
      "RangeIndex: 294478 entries, 0 to 294477\n",
      "Data columns (total 5 columns):\n",
      " #   Column     Non-Null Count   Dtype \n",
      "---  ------     --------------   ----- \n",
      " 0   id         294478 non-null  int64 \n",
      " 1   time       294478 non-null  object\n",
      " 2   con_treat  294478 non-null  object\n",
      " 3   page       294478 non-null  object\n",
      " 4   converted  294478 non-null  int64 \n",
      "dtypes: int64(2), object(3)\n",
      "memory usage: 11.2+ MB\n"
     ]
    }
   ],
   "source": [
    "data.info()"
   ]
  },
  {
   "cell_type": "code",
   "execution_count": 4,
   "id": "6ff73770-efab-4d48-bb48-8abbcca73eae",
   "metadata": {},
   "outputs": [
    {
     "data": {
      "text/plain": [
       "id           0\n",
       "time         0\n",
       "con_treat    0\n",
       "page         0\n",
       "converted    0\n",
       "dtype: int64"
      ]
     },
     "execution_count": 4,
     "metadata": {},
     "output_type": "execute_result"
    }
   ],
   "source": [
    "data.isna().sum()"
   ]
  },
  {
   "cell_type": "code",
   "execution_count": 5,
   "id": "21658970-29bf-482d-9ae8-025834740e1d",
   "metadata": {},
   "outputs": [
    {
     "data": {
      "text/plain": [
       "con_treat\n",
       "treatment    147276\n",
       "control      147202\n",
       "Name: count, dtype: int64"
      ]
     },
     "execution_count": 5,
     "metadata": {},
     "output_type": "execute_result"
    }
   ],
   "source": [
    "data.con_treat.value_counts()"
   ]
  },
  {
   "cell_type": "markdown",
   "id": "26c83e5e-0b62-40a8-b520-791ada06f756",
   "metadata": {},
   "source": [
    "__*Избавимся от некорретных строк.*__"
   ]
  },
  {
   "cell_type": "markdown",
   "id": "1d240254-5b97-4ff5-88af-e9412f2f701f",
   "metadata": {},
   "source": [
    "_Посчитаем, сколько типов встречается у каждого пользователя._"
   ]
  },
  {
   "cell_type": "code",
   "execution_count": 6,
   "id": "3baaa24e-47db-46e9-8903-5db2fbcb9b8c",
   "metadata": {},
   "outputs": [
    {
     "data": {
      "text/html": [
       "<div>\n",
       "<style scoped>\n",
       "    .dataframe tbody tr th:only-of-type {\n",
       "        vertical-align: middle;\n",
       "    }\n",
       "\n",
       "    .dataframe tbody tr th {\n",
       "        vertical-align: top;\n",
       "    }\n",
       "\n",
       "    .dataframe thead th {\n",
       "        text-align: right;\n",
       "    }\n",
       "</style>\n",
       "<table border=\"1\" class=\"dataframe\">\n",
       "  <thead>\n",
       "    <tr style=\"text-align: right;\">\n",
       "      <th></th>\n",
       "      <th>id</th>\n",
       "      <th>con_treat</th>\n",
       "    </tr>\n",
       "  </thead>\n",
       "  <tbody>\n",
       "    <tr>\n",
       "      <th>0</th>\n",
       "      <td>630000</td>\n",
       "      <td>1</td>\n",
       "    </tr>\n",
       "    <tr>\n",
       "      <th>1</th>\n",
       "      <td>630001</td>\n",
       "      <td>1</td>\n",
       "    </tr>\n",
       "    <tr>\n",
       "      <th>2</th>\n",
       "      <td>630002</td>\n",
       "      <td>1</td>\n",
       "    </tr>\n",
       "    <tr>\n",
       "      <th>3</th>\n",
       "      <td>630003</td>\n",
       "      <td>1</td>\n",
       "    </tr>\n",
       "    <tr>\n",
       "      <th>4</th>\n",
       "      <td>630004</td>\n",
       "      <td>1</td>\n",
       "    </tr>\n",
       "  </tbody>\n",
       "</table>\n",
       "</div>"
      ],
      "text/plain": [
       "       id  con_treat\n",
       "0  630000          1\n",
       "1  630001          1\n",
       "2  630002          1\n",
       "3  630003          1\n",
       "4  630004          1"
      ]
     },
     "execution_count": 6,
     "metadata": {},
     "output_type": "execute_result"
    }
   ],
   "source": [
    "v = data.\\\n",
    "    groupby('id', as_index=False).\\\n",
    "    agg({'con_treat': pd.Series.nunique})\n",
    "\n",
    "v.head()"
   ]
  },
  {
   "cell_type": "code",
   "execution_count": 7,
   "id": "b74d0c47-07ac-4041-aa30-bc258e8f8d16",
   "metadata": {},
   "outputs": [
    {
     "name": "stdout",
     "output_type": "stream",
     "text": [
      "<class 'pandas.core.frame.DataFrame'>\n",
      "RangeIndex: 290584 entries, 0 to 290583\n",
      "Data columns (total 2 columns):\n",
      " #   Column     Non-Null Count   Dtype\n",
      "---  ------     --------------   -----\n",
      " 0   id         290584 non-null  int64\n",
      " 1   con_treat  290584 non-null  int64\n",
      "dtypes: int64(2)\n",
      "memory usage: 4.4 MB\n"
     ]
    }
   ],
   "source": [
    "v.info()"
   ]
  },
  {
   "cell_type": "code",
   "execution_count": 8,
   "id": "ab2e48fb-c2e9-42dd-953f-e95c33501936",
   "metadata": {},
   "outputs": [
    {
     "data": {
      "text/plain": [
       "(290688, 5)"
      ]
     },
     "execution_count": 8,
     "metadata": {},
     "output_type": "execute_result"
    }
   ],
   "source": [
    "more_than_one_types = v.query('con_treat > 1')\n",
    "data_new = data[~data.id.isin(more_than_one_types.id)].sort_values('id')\n",
    "data_new.shape"
   ]
  },
  {
   "cell_type": "markdown",
   "id": "f0b0c341-f5a2-4d36-8ade-fe1e0bbbcdbd",
   "metadata": {},
   "source": [
    "Уже видно, что почти 4 тысячи юзеров попали в обе группы."
   ]
  },
  {
   "cell_type": "markdown",
   "id": "35c1de56-3a73-4afa-b76f-425f830d4138",
   "metadata": {},
   "source": [
    "_Далее проверим правильность сплитования_"
   ]
  },
  {
   "cell_type": "code",
   "execution_count": 9,
   "id": "6c53b299-984d-4caa-966c-4ee5809a99c5",
   "metadata": {},
   "outputs": [
    {
     "data": {
      "text/plain": [
       "1007"
      ]
     },
     "execution_count": 9,
     "metadata": {},
     "output_type": "execute_result"
    }
   ],
   "source": [
    "len(data_new[(data_new['con_treat']=='control') & (data_new['page']=='new_page')])"
   ]
  },
  {
   "cell_type": "code",
   "execution_count": 10,
   "id": "ef5e1957-966e-46c5-bcdb-f11031d0261d",
   "metadata": {},
   "outputs": [
    {
     "data": {
      "text/plain": [
       "991"
      ]
     },
     "execution_count": 10,
     "metadata": {},
     "output_type": "execute_result"
    }
   ],
   "source": [
    "len(data_new[(data_new['con_treat']=='treatment') & (data_new['page']=='old_page')])"
   ]
  },
  {
   "cell_type": "markdown",
   "id": "051dff1c-4f80-4a89-b216-c5edd1116b58",
   "metadata": {},
   "source": [
    "Ещё 1998 юзеров не соответствуют сплитованным группам (т.е. в контрольной группе с тестовой страницей и наоборот)"
   ]
  },
  {
   "cell_type": "code",
   "execution_count": 11,
   "id": "cecc74fb-27cb-43ed-9452-5fa01cbb9cb9",
   "metadata": {},
   "outputs": [
    {
     "data": {
      "text/plain": [
       "(288690, 5)"
      ]
     },
     "execution_count": 11,
     "metadata": {},
     "output_type": "execute_result"
    }
   ],
   "source": [
    "data_final = data_new.loc[(data_new['con_treat']=='control')&(data_new['page']=='old_page') | (data_new['con_treat']=='treatment')&(data_new['page']=='new_page')]\n",
    "data_final.shape"
   ]
  },
  {
   "cell_type": "markdown",
   "id": "3a1f013f-88ef-4441-8cf2-b1b0e7de7324",
   "metadata": {},
   "source": [
    "Итого отсеялось 5788 юзеров.  Это вызывает вопросы к сплитовалке."
   ]
  },
  {
   "cell_type": "code",
   "execution_count": 12,
   "id": "e01ab24a-fcbe-47ab-b474-da30f3b64399",
   "metadata": {},
   "outputs": [
    {
     "data": {
      "text/plain": [
       "con_treat\n",
       "treatment    144390\n",
       "control      144300\n",
       "Name: count, dtype: int64"
      ]
     },
     "execution_count": 12,
     "metadata": {},
     "output_type": "execute_result"
    }
   ],
   "source": [
    "data_final.con_treat.value_counts()"
   ]
  },
  {
   "cell_type": "markdown",
   "id": "d0007cda-183b-44b9-b137-35efd4ad73f5",
   "metadata": {},
   "source": [
    "Различия в размерах выборок незначительны."
   ]
  },
  {
   "cell_type": "markdown",
   "id": "e18f6fcd-f0b2-4333-9bb2-d4525b7de1ce",
   "metadata": {},
   "source": [
    "__*Для проверки конверсии будем использовать z-критерий*__"
   ]
  },
  {
   "cell_type": "code",
   "execution_count": 13,
   "id": "03061053-fe6f-49bc-b740-6f94f4ca7f33",
   "metadata": {},
   "outputs": [],
   "source": [
    "control = data_final.query(\"con_treat == 'control'\")\n",
    "treatment = data_final.query(\"con_treat == 'treatment'\")\n",
    "\n",
    "n_control = control.shape[0]\n",
    "n_treatment = treatment.shape[0]\n",
    "\n",
    "conv_control = control['converted'].sum()\n",
    "conv_treatment = treatment['converted'].sum()"
   ]
  },
  {
   "cell_type": "code",
   "execution_count": 14,
   "id": "3aa3b210-e0bc-4b0c-8591-bc4b05b3a5b1",
   "metadata": {},
   "outputs": [
    {
     "name": "stdout",
     "output_type": "stream",
     "text": [
      "Z-statistic: 1.22\n",
      "P-value: 0.2223\n"
     ]
    }
   ],
   "source": [
    "from statsmodels.stats.proportion import proportions_ztest\n",
    "\n",
    "z_stat, p_value = proportions_ztest([conv_control, conv_treatment], [n_control, n_treatment])\n",
    "\n",
    "print(f\"Z-statistic: {z_stat:.2f}\\nP-value: {p_value:.4f}\")"
   ]
  },
  {
   "cell_type": "markdown",
   "id": "a7d13429-a017-4e6f-9b0a-92af1da974a3",
   "metadata": {},
   "source": [
    "### Итог"
   ]
  },
  {
   "cell_type": "markdown",
   "id": "94133fed-d4ba-46d7-b8ba-75eefcafd860",
   "metadata": {},
   "source": [
    "__pvalue > 0.05__  \n",
    "__*Статистически значимой разницы между выборками не обнаружено. Остаёмся на контрольной/начальной версии сайта.*__  \n",
    "__*Необходимо проверить сплитовалку*__"
   ]
  }
 ],
 "metadata": {
  "kernelspec": {
   "display_name": "Python 3 (ipykernel)",
   "language": "python",
   "name": "python3"
  },
  "language_info": {
   "codemirror_mode": {
    "name": "ipython",
    "version": 3
   },
   "file_extension": ".py",
   "mimetype": "text/x-python",
   "name": "python",
   "nbconvert_exporter": "python",
   "pygments_lexer": "ipython3",
   "version": "3.11.2"
  }
 },
 "nbformat": 4,
 "nbformat_minor": 5
}
