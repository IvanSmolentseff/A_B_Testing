{
 "cells": [
  {
   "cell_type": "markdown",
   "id": "f417b3bd-f6b2-412d-b4e3-9b5e018d607f",
   "metadata": {},
   "source": [
    "# Урок 9. Python применение продвинутых методов\n",
    "Проанализируйте результаты эксперимента и напишите свои рекомендации менеджеру.\r\n",
    "\r\n",
    "Mobile Games AB Testing with Cookie Ca  \n",
    "  \n",
    "About this file  \r\n",
    "The data we have is from 90,189 players that installed the game while the AB-test was running.\r\n",
    "When a player installed the game, he or she was randomly assigned to eithe    \n",
    "\n",
    "Об этом файле  \n",
    "У нас есть данные от 90 189 игроков, которые установили игру во время проведения AB-теста.\n",
    "Когда игрок устанавливал игру, он или она были случайным образом назначены на любую из них.    \n",
    "\n",
    "<img src=\"about file.jpg\" >  r.ts"
   ]
  },
  {
   "cell_type": "markdown",
   "id": "a7b4ba36-0a4d-4f33-9ea1-42a19796a8ed",
   "metadata": {},
   "source": [
    "*__Подготовка данных.__*"
   ]
  },
  {
   "cell_type": "code",
   "execution_count": 1,
   "id": "7259aa14-740a-4b67-a3c4-ede7647195f7",
   "metadata": {},
   "outputs": [],
   "source": [
    "import matplotlib.pyplot as plt\n",
    "import pandas as pd"
   ]
  },
  {
   "cell_type": "code",
   "execution_count": 2,
   "id": "e95ca5c1-7d9a-4e21-bf3f-14cebae7936c",
   "metadata": {},
   "outputs": [
    {
     "data": {
      "text/html": [
       "<div>\n",
       "<style scoped>\n",
       "    .dataframe tbody tr th:only-of-type {\n",
       "        vertical-align: middle;\n",
       "    }\n",
       "\n",
       "    .dataframe tbody tr th {\n",
       "        vertical-align: top;\n",
       "    }\n",
       "\n",
       "    .dataframe thead th {\n",
       "        text-align: right;\n",
       "    }\n",
       "</style>\n",
       "<table border=\"1\" class=\"dataframe\">\n",
       "  <thead>\n",
       "    <tr style=\"text-align: right;\">\n",
       "      <th></th>\n",
       "      <th>userid</th>\n",
       "      <th>version</th>\n",
       "      <th>sum_gamerounds</th>\n",
       "      <th>retention_1</th>\n",
       "      <th>retention_7</th>\n",
       "    </tr>\n",
       "  </thead>\n",
       "  <tbody>\n",
       "    <tr>\n",
       "      <th>0</th>\n",
       "      <td>116</td>\n",
       "      <td>gate_30</td>\n",
       "      <td>3</td>\n",
       "      <td>0</td>\n",
       "      <td>0</td>\n",
       "    </tr>\n",
       "    <tr>\n",
       "      <th>1</th>\n",
       "      <td>337</td>\n",
       "      <td>gate_30</td>\n",
       "      <td>38</td>\n",
       "      <td>1</td>\n",
       "      <td>0</td>\n",
       "    </tr>\n",
       "    <tr>\n",
       "      <th>2</th>\n",
       "      <td>377</td>\n",
       "      <td>gate_40</td>\n",
       "      <td>165</td>\n",
       "      <td>1</td>\n",
       "      <td>0</td>\n",
       "    </tr>\n",
       "    <tr>\n",
       "      <th>3</th>\n",
       "      <td>483</td>\n",
       "      <td>gate_40</td>\n",
       "      <td>1</td>\n",
       "      <td>0</td>\n",
       "      <td>0</td>\n",
       "    </tr>\n",
       "    <tr>\n",
       "      <th>4</th>\n",
       "      <td>488</td>\n",
       "      <td>gate_40</td>\n",
       "      <td>179</td>\n",
       "      <td>1</td>\n",
       "      <td>1</td>\n",
       "    </tr>\n",
       "    <tr>\n",
       "      <th>5</th>\n",
       "      <td>540</td>\n",
       "      <td>gate_40</td>\n",
       "      <td>187</td>\n",
       "      <td>1</td>\n",
       "      <td>1</td>\n",
       "    </tr>\n",
       "    <tr>\n",
       "      <th>6</th>\n",
       "      <td>1066</td>\n",
       "      <td>gate_30</td>\n",
       "      <td>0</td>\n",
       "      <td>0</td>\n",
       "      <td>0</td>\n",
       "    </tr>\n",
       "    <tr>\n",
       "      <th>7</th>\n",
       "      <td>1444</td>\n",
       "      <td>gate_40</td>\n",
       "      <td>2</td>\n",
       "      <td>0</td>\n",
       "      <td>0</td>\n",
       "    </tr>\n",
       "    <tr>\n",
       "      <th>8</th>\n",
       "      <td>1574</td>\n",
       "      <td>gate_40</td>\n",
       "      <td>108</td>\n",
       "      <td>1</td>\n",
       "      <td>1</td>\n",
       "    </tr>\n",
       "    <tr>\n",
       "      <th>9</th>\n",
       "      <td>1587</td>\n",
       "      <td>gate_40</td>\n",
       "      <td>153</td>\n",
       "      <td>1</td>\n",
       "      <td>0</td>\n",
       "    </tr>\n",
       "  </tbody>\n",
       "</table>\n",
       "</div>"
      ],
      "text/plain": [
       "   userid  version  sum_gamerounds  retention_1  retention_7\n",
       "0     116  gate_30               3            0            0\n",
       "1     337  gate_30              38            1            0\n",
       "2     377  gate_40             165            1            0\n",
       "3     483  gate_40               1            0            0\n",
       "4     488  gate_40             179            1            1\n",
       "5     540  gate_40             187            1            1\n",
       "6    1066  gate_30               0            0            0\n",
       "7    1444  gate_40               2            0            0\n",
       "8    1574  gate_40             108            1            1\n",
       "9    1587  gate_40             153            1            0"
      ]
     },
     "execution_count": 2,
     "metadata": {},
     "output_type": "execute_result"
    }
   ],
   "source": [
    "data = pd.read_csv('результаты А_B - cookie_cats 2.csv')\n",
    "\n",
    "data.head(10)"
   ]
  },
  {
   "cell_type": "code",
   "execution_count": 3,
   "id": "6e715a83-f4a7-4cee-b2ba-6536496ec856",
   "metadata": {},
   "outputs": [
    {
     "name": "stdout",
     "output_type": "stream",
     "text": [
      "<class 'pandas.core.frame.DataFrame'>\n",
      "RangeIndex: 90189 entries, 0 to 90188\n",
      "Data columns (total 5 columns):\n",
      " #   Column          Non-Null Count  Dtype \n",
      "---  ------          --------------  ----- \n",
      " 0   userid          90189 non-null  int64 \n",
      " 1   version         90189 non-null  object\n",
      " 2   sum_gamerounds  90189 non-null  int64 \n",
      " 3   retention_1     90189 non-null  int64 \n",
      " 4   retention_7     90189 non-null  int64 \n",
      "dtypes: int64(4), object(1)\n",
      "memory usage: 3.4+ MB\n"
     ]
    }
   ],
   "source": [
    "data.info()"
   ]
  },
  {
   "cell_type": "code",
   "execution_count": 4,
   "id": "6ff73770-efab-4d48-bb48-8abbcca73eae",
   "metadata": {},
   "outputs": [
    {
     "data": {
      "text/plain": [
       "userid            0\n",
       "version           0\n",
       "sum_gamerounds    0\n",
       "retention_1       0\n",
       "retention_7       0\n",
       "dtype: int64"
      ]
     },
     "execution_count": 4,
     "metadata": {},
     "output_type": "execute_result"
    }
   ],
   "source": [
    "data.isna().sum()"
   ]
  },
  {
   "cell_type": "markdown",
   "id": "920b9d24-bbc4-4532-bcaf-17519b363135",
   "metadata": {},
   "source": [
    "_Посчитаем, сколько типов встречается у каждого пользователя._"
   ]
  },
  {
   "cell_type": "code",
   "execution_count": 5,
   "id": "bfcb9b52-b2ee-4903-b08e-34d4f90600a3",
   "metadata": {},
   "outputs": [
    {
     "data": {
      "text/html": [
       "<div>\n",
       "<style scoped>\n",
       "    .dataframe tbody tr th:only-of-type {\n",
       "        vertical-align: middle;\n",
       "    }\n",
       "\n",
       "    .dataframe tbody tr th {\n",
       "        vertical-align: top;\n",
       "    }\n",
       "\n",
       "    .dataframe thead th {\n",
       "        text-align: right;\n",
       "    }\n",
       "</style>\n",
       "<table border=\"1\" class=\"dataframe\">\n",
       "  <thead>\n",
       "    <tr style=\"text-align: right;\">\n",
       "      <th></th>\n",
       "      <th>userid</th>\n",
       "      <th>version</th>\n",
       "    </tr>\n",
       "  </thead>\n",
       "  <tbody>\n",
       "    <tr>\n",
       "      <th>0</th>\n",
       "      <td>116</td>\n",
       "      <td>1</td>\n",
       "    </tr>\n",
       "    <tr>\n",
       "      <th>1</th>\n",
       "      <td>337</td>\n",
       "      <td>1</td>\n",
       "    </tr>\n",
       "    <tr>\n",
       "      <th>2</th>\n",
       "      <td>377</td>\n",
       "      <td>1</td>\n",
       "    </tr>\n",
       "    <tr>\n",
       "      <th>3</th>\n",
       "      <td>483</td>\n",
       "      <td>1</td>\n",
       "    </tr>\n",
       "    <tr>\n",
       "      <th>4</th>\n",
       "      <td>488</td>\n",
       "      <td>1</td>\n",
       "    </tr>\n",
       "  </tbody>\n",
       "</table>\n",
       "</div>"
      ],
      "text/plain": [
       "   userid  version\n",
       "0     116        1\n",
       "1     337        1\n",
       "2     377        1\n",
       "3     483        1\n",
       "4     488        1"
      ]
     },
     "execution_count": 5,
     "metadata": {},
     "output_type": "execute_result"
    }
   ],
   "source": [
    "v = data.\\\n",
    "    groupby('userid', as_index=False).\\\n",
    "    agg({'version': pd.Series.nunique})\n",
    "\n",
    "v.head()"
   ]
  },
  {
   "cell_type": "code",
   "execution_count": 6,
   "id": "2f1e763d-6346-45f4-8636-f24ee9ebba8d",
   "metadata": {},
   "outputs": [
    {
     "name": "stdout",
     "output_type": "stream",
     "text": [
      "<class 'pandas.core.frame.DataFrame'>\n",
      "RangeIndex: 90189 entries, 0 to 90188\n",
      "Data columns (total 2 columns):\n",
      " #   Column   Non-Null Count  Dtype\n",
      "---  ------   --------------  -----\n",
      " 0   userid   90189 non-null  int64\n",
      " 1   version  90189 non-null  int64\n",
      "dtypes: int64(2)\n",
      "memory usage: 1.4 MB\n"
     ]
    }
   ],
   "source": [
    "v.info()"
   ]
  },
  {
   "cell_type": "code",
   "execution_count": 7,
   "id": "0e3773b7-6dcb-467e-b34b-f090508a4226",
   "metadata": {},
   "outputs": [
    {
     "data": {
      "text/plain": [
       "version\n",
       "gate_40    45489\n",
       "gate_30    44700\n",
       "Name: count, dtype: int64"
      ]
     },
     "execution_count": 7,
     "metadata": {},
     "output_type": "execute_result"
    }
   ],
   "source": [
    "data.version.value_counts()"
   ]
  },
  {
   "cell_type": "markdown",
   "id": "f8cc8e86-aab7-417a-a19b-d40d6b4fcd20",
   "metadata": {},
   "source": [
    "Различия в размере групп незначительны, некорректных записей не обнаружено."
   ]
  },
  {
   "cell_type": "code",
   "execution_count": 8,
   "id": "9dd3057b-fd44-47b1-8f27-3a41806f6dfa",
   "metadata": {},
   "outputs": [
    {
     "data": {
      "text/html": [
       "<div>\n",
       "<style scoped>\n",
       "    .dataframe tbody tr th:only-of-type {\n",
       "        vertical-align: middle;\n",
       "    }\n",
       "\n",
       "    .dataframe tbody tr th {\n",
       "        vertical-align: top;\n",
       "    }\n",
       "\n",
       "    .dataframe thead th {\n",
       "        text-align: right;\n",
       "    }\n",
       "</style>\n",
       "<table border=\"1\" class=\"dataframe\">\n",
       "  <thead>\n",
       "    <tr style=\"text-align: right;\">\n",
       "      <th></th>\n",
       "      <th>userid</th>\n",
       "      <th>sum_gamerounds</th>\n",
       "      <th>retention_1</th>\n",
       "      <th>retention_7</th>\n",
       "    </tr>\n",
       "  </thead>\n",
       "  <tbody>\n",
       "    <tr>\n",
       "      <th>count</th>\n",
       "      <td>4.470000e+04</td>\n",
       "      <td>44700.000000</td>\n",
       "      <td>44700.000000</td>\n",
       "      <td>44700.000000</td>\n",
       "    </tr>\n",
       "    <tr>\n",
       "      <th>mean</th>\n",
       "      <td>4.987564e+06</td>\n",
       "      <td>52.456264</td>\n",
       "      <td>0.448188</td>\n",
       "      <td>0.190201</td>\n",
       "    </tr>\n",
       "    <tr>\n",
       "      <th>std</th>\n",
       "      <td>2.881026e+06</td>\n",
       "      <td>256.716423</td>\n",
       "      <td>0.497314</td>\n",
       "      <td>0.392464</td>\n",
       "    </tr>\n",
       "    <tr>\n",
       "      <th>min</th>\n",
       "      <td>1.160000e+02</td>\n",
       "      <td>0.000000</td>\n",
       "      <td>0.000000</td>\n",
       "      <td>0.000000</td>\n",
       "    </tr>\n",
       "    <tr>\n",
       "      <th>25%</th>\n",
       "      <td>2.505469e+06</td>\n",
       "      <td>5.000000</td>\n",
       "      <td>0.000000</td>\n",
       "      <td>0.000000</td>\n",
       "    </tr>\n",
       "    <tr>\n",
       "      <th>50%</th>\n",
       "      <td>4.983631e+06</td>\n",
       "      <td>17.000000</td>\n",
       "      <td>0.000000</td>\n",
       "      <td>0.000000</td>\n",
       "    </tr>\n",
       "    <tr>\n",
       "      <th>75%</th>\n",
       "      <td>7.481497e+06</td>\n",
       "      <td>50.000000</td>\n",
       "      <td>1.000000</td>\n",
       "      <td>0.000000</td>\n",
       "    </tr>\n",
       "    <tr>\n",
       "      <th>max</th>\n",
       "      <td>9.999710e+06</td>\n",
       "      <td>49854.000000</td>\n",
       "      <td>1.000000</td>\n",
       "      <td>1.000000</td>\n",
       "    </tr>\n",
       "  </tbody>\n",
       "</table>\n",
       "</div>"
      ],
      "text/plain": [
       "             userid  sum_gamerounds   retention_1   retention_7\n",
       "count  4.470000e+04    44700.000000  44700.000000  44700.000000\n",
       "mean   4.987564e+06       52.456264      0.448188      0.190201\n",
       "std    2.881026e+06      256.716423      0.497314      0.392464\n",
       "min    1.160000e+02        0.000000      0.000000      0.000000\n",
       "25%    2.505469e+06        5.000000      0.000000      0.000000\n",
       "50%    4.983631e+06       17.000000      0.000000      0.000000\n",
       "75%    7.481497e+06       50.000000      1.000000      0.000000\n",
       "max    9.999710e+06    49854.000000      1.000000      1.000000"
      ]
     },
     "execution_count": 8,
     "metadata": {},
     "output_type": "execute_result"
    }
   ],
   "source": [
    "data[data['version']=='gate_30'].describe()"
   ]
  },
  {
   "cell_type": "code",
   "execution_count": 9,
   "id": "70867d15-bd68-4593-ba29-cf906f9e0711",
   "metadata": {},
   "outputs": [
    {
     "data": {
      "text/html": [
       "<div>\n",
       "<style scoped>\n",
       "    .dataframe tbody tr th:only-of-type {\n",
       "        vertical-align: middle;\n",
       "    }\n",
       "\n",
       "    .dataframe tbody tr th {\n",
       "        vertical-align: top;\n",
       "    }\n",
       "\n",
       "    .dataframe thead th {\n",
       "        text-align: right;\n",
       "    }\n",
       "</style>\n",
       "<table border=\"1\" class=\"dataframe\">\n",
       "  <thead>\n",
       "    <tr style=\"text-align: right;\">\n",
       "      <th></th>\n",
       "      <th>userid</th>\n",
       "      <th>sum_gamerounds</th>\n",
       "      <th>retention_1</th>\n",
       "      <th>retention_7</th>\n",
       "    </tr>\n",
       "  </thead>\n",
       "  <tbody>\n",
       "    <tr>\n",
       "      <th>count</th>\n",
       "      <td>4.548900e+04</td>\n",
       "      <td>45489.000000</td>\n",
       "      <td>45489.000000</td>\n",
       "      <td>45489.000000</td>\n",
       "    </tr>\n",
       "    <tr>\n",
       "      <th>mean</th>\n",
       "      <td>5.009073e+06</td>\n",
       "      <td>51.298776</td>\n",
       "      <td>0.442283</td>\n",
       "      <td>0.182000</td>\n",
       "    </tr>\n",
       "    <tr>\n",
       "      <th>std</th>\n",
       "      <td>2.885496e+06</td>\n",
       "      <td>103.294416</td>\n",
       "      <td>0.496663</td>\n",
       "      <td>0.385849</td>\n",
       "    </tr>\n",
       "    <tr>\n",
       "      <th>min</th>\n",
       "      <td>3.770000e+02</td>\n",
       "      <td>0.000000</td>\n",
       "      <td>0.000000</td>\n",
       "      <td>0.000000</td>\n",
       "    </tr>\n",
       "    <tr>\n",
       "      <th>25%</th>\n",
       "      <td>2.517171e+06</td>\n",
       "      <td>5.000000</td>\n",
       "      <td>0.000000</td>\n",
       "      <td>0.000000</td>\n",
       "    </tr>\n",
       "    <tr>\n",
       "      <th>50%</th>\n",
       "      <td>5.007329e+06</td>\n",
       "      <td>16.000000</td>\n",
       "      <td>0.000000</td>\n",
       "      <td>0.000000</td>\n",
       "    </tr>\n",
       "    <tr>\n",
       "      <th>75%</th>\n",
       "      <td>7.510762e+06</td>\n",
       "      <td>52.000000</td>\n",
       "      <td>1.000000</td>\n",
       "      <td>0.000000</td>\n",
       "    </tr>\n",
       "    <tr>\n",
       "      <th>max</th>\n",
       "      <td>9.999861e+06</td>\n",
       "      <td>2640.000000</td>\n",
       "      <td>1.000000</td>\n",
       "      <td>1.000000</td>\n",
       "    </tr>\n",
       "  </tbody>\n",
       "</table>\n",
       "</div>"
      ],
      "text/plain": [
       "             userid  sum_gamerounds   retention_1   retention_7\n",
       "count  4.548900e+04    45489.000000  45489.000000  45489.000000\n",
       "mean   5.009073e+06       51.298776      0.442283      0.182000\n",
       "std    2.885496e+06      103.294416      0.496663      0.385849\n",
       "min    3.770000e+02        0.000000      0.000000      0.000000\n",
       "25%    2.517171e+06        5.000000      0.000000      0.000000\n",
       "50%    5.007329e+06       16.000000      0.000000      0.000000\n",
       "75%    7.510762e+06       52.000000      1.000000      0.000000\n",
       "max    9.999861e+06     2640.000000      1.000000      1.000000"
      ]
     },
     "execution_count": 9,
     "metadata": {},
     "output_type": "execute_result"
    }
   ],
   "source": [
    "data[data['version']=='gate_40'].describe()"
   ]
  },
  {
   "cell_type": "markdown",
   "id": "0db1aee3-a278-4e56-b64d-3925d13ca5ff",
   "metadata": {},
   "source": [
    "Из быстрого анализа двух выборок видно что кардинальных различий нет (за исключением max sum_gamerounds)."
   ]
  },
  {
   "cell_type": "markdown",
   "id": "4df868d5-5902-47c9-86b0-a9be23b0da2d",
   "metadata": {},
   "source": [
    "__*Проверка на нормальность распределения и применение статистических критериев*__"
   ]
  },
  {
   "cell_type": "code",
   "execution_count": 10,
   "id": "dfdd9bdc-0b10-4bbf-9442-47c7d630e2b9",
   "metadata": {},
   "outputs": [
    {
     "data": {
      "image/png": "[encoded data removed]",
      "text/plain": [
       "<Figure size 640x480 with 1 Axes>"
      ]
     },
     "metadata": {},
     "output_type": "display_data"
    }
   ],
   "source": [
    "data['sum_gamerounds'][data['version'] == 'gate_30'].hist(bins = 25, alpha =0.9, label='Control')\n",
    "data['sum_gamerounds'][data['version'] == 'gate_40'].hist(bins = 25, alpha =0.9, label='Test')\n",
    "plt.title('Sum of played game rounds')\n",
    "plt.xlabel('game rounds')\n",
    "plt.ylabel('number of players')\n",
    "plt.legend();"
   ]
  },
  {
   "cell_type": "markdown",
   "id": "70f9fa76-c471-4721-8b21-57e85cd6403c",
   "metadata": {},
   "source": [
    "_Для проверки на нормальность будем использовать тест Колмогорова-Смирнова, т.к. выборка размером более 5000_"
   ]
  },
  {
   "cell_type": "code",
   "execution_count": 11,
   "id": "0510a8c2-baaf-4864-ad50-e963b4119cc4",
   "metadata": {},
   "outputs": [
    {
     "data": {
      "text/plain": [
       "KstestResult(statistic=0.010270735856046653, pvalue=0.017070040502866063, statistic_location=22, statistic_sign=1)"
      ]
     },
     "execution_count": 11,
     "metadata": {},
     "output_type": "execute_result"
    }
   ],
   "source": [
    "from scipy.stats import kstest\n",
    "\n",
    "kstest(data[data['version']=='gate_40']['sum_gamerounds'].values, data[data['version']=='gate_30']['sum_gamerounds'].values, 'norm')"
   ]
  },
  {
   "cell_type": "markdown",
   "id": "8d75ff4e-6b1a-4417-86c5-4644b1e53eb2",
   "metadata": {},
   "source": [
    "И тест и гистограмма показывают, что распределение не нормально."
   ]
  },
  {
   "cell_type": "markdown",
   "id": "837d4d8d-bf93-4173-8e1a-c6602850b6ff",
   "metadata": {},
   "source": [
    "__*Для оценки sum_gamerounds применим критерий Манна-Уитни*__"
   ]
  },
  {
   "cell_type": "code",
   "execution_count": 12,
   "id": "b7d5049e-ce31-4b84-973a-ebec73e0e893",
   "metadata": {},
   "outputs": [
    {
     "data": {
      "text/plain": [
       "MannwhitneyuResult(statistic=1024331250.5, pvalue=0.05020880772044255)"
      ]
     },
     "execution_count": 12,
     "metadata": {},
     "output_type": "execute_result"
    }
   ],
   "source": [
    "from scipy.stats import mannwhitneyu\n",
    "\n",
    "mw_stats = mannwhitneyu(x=data[(data['version'] == 'gate_30')]['sum_gamerounds'].values,\n",
    "                                                  y=data[(data['version'] == 'gate_40')]['sum_gamerounds'].values)\n",
    "mw_stats"
   ]
  },
  {
   "cell_type": "markdown",
   "id": "d72bcc42-08a9-45ef-a2ee-9ad9126fd98a",
   "metadata": {},
   "source": [
    "По сумме прохождения игровых раундов между группами нет статистически значимых различий (p-value > 0.05)."
   ]
  },
  {
   "cell_type": "markdown",
   "id": "fa4e57bd-5064-4567-bff9-49447525bc9a",
   "metadata": {},
   "source": [
    "__*Для проверки retention будем использовать z-критерий*__"
   ]
  },
  {
   "cell_type": "markdown",
   "id": "8c50f351-32af-4734-9c96-a69f579ee370",
   "metadata": {},
   "source": [
    "_Рассчитаем для retention_1_"
   ]
  },
  {
   "cell_type": "code",
   "execution_count": 13,
   "id": "4bfa4e69-ab78-46ef-a5ad-fdac50c757b7",
   "metadata": {},
   "outputs": [],
   "source": [
    "control = data.query(\"version == 'gate_30'\")\n",
    "test = data.query(\"version == 'gate_40'\")\n",
    "\n",
    "n_control = control.shape[0]\n",
    "n_test = test.shape[0]\n",
    "\n",
    "conv_control = control['retention_1'].sum()\n",
    "conv_test = test['retention_1'].sum()"
   ]
  },
  {
   "cell_type": "code",
   "execution_count": 14,
   "id": "51aca9d5-ec4e-4eed-86c1-64b0f050b7e9",
   "metadata": {},
   "outputs": [
    {
     "name": "stdout",
     "output_type": "stream",
     "text": [
      "Z-statistic: 1.78\n",
      "P-value: 0.0744\n"
     ]
    }
   ],
   "source": [
    "from statsmodels.stats.proportion import proportions_ztest\n",
    "\n",
    "z_stat, p_value = proportions_ztest([conv_control, conv_test], [n_control, n_test])\n",
    "\n",
    "print(f\"Z-statistic: {z_stat:.2f}\\nP-value: {p_value:.4f}\")"
   ]
  },
  {
   "cell_type": "markdown",
   "id": "5c6c8928-3296-46af-ba8a-6f31365bf8c0",
   "metadata": {},
   "source": [
    "По retention_1 между группами нет статистически значимых различий (p-value > 0.05)."
   ]
  },
  {
   "cell_type": "markdown",
   "id": "16202257-96d7-49d0-8ab2-44208ba8db17",
   "metadata": {},
   "source": [
    "_Рассчитаем для retention_7_"
   ]
  },
  {
   "cell_type": "code",
   "execution_count": 15,
   "id": "6f8d3dea-1c68-4f7a-b034-5ea5cb8f884d",
   "metadata": {},
   "outputs": [],
   "source": [
    "conv_control = control['retention_7'].sum()\n",
    "conv_test = test['retention_7'].sum()"
   ]
  },
  {
   "cell_type": "code",
   "execution_count": 16,
   "id": "c9d10fc8-3d84-4111-b149-9a0c78b83dc4",
   "metadata": {},
   "outputs": [
    {
     "name": "stdout",
     "output_type": "stream",
     "text": [
      "Z-statistic: 3.16\n",
      "P-value: 0.0016\n"
     ]
    }
   ],
   "source": [
    "z_stat, p_value = proportions_ztest([conv_control, conv_test], [n_control, n_test])\n",
    "\n",
    "print(f\"Z-statistic: {z_stat:.2f}\\nP-value: {p_value:.4f}\")"
   ]
  },
  {
   "cell_type": "markdown",
   "id": "1a602916-b6f4-45b5-9385-e2d4d4fc4085",
   "metadata": {},
   "source": [
    "По retention_7 между группами есть статистически значимые различия (p-value < 0.05)."
   ]
  },
  {
   "cell_type": "markdown",
   "id": "6c98fc89-d17e-4762-bee0-a7f81995b2e7",
   "metadata": {},
   "source": [
    "__*Для контроля также рассчитаем мощность теста*__"
   ]
  },
  {
   "cell_type": "code",
   "execution_count": 17,
   "id": "b559f526-f79b-4526-8d54-06f9b12ba945",
   "metadata": {},
   "outputs": [],
   "source": [
    "import numpy as np\n",
    "import statsmodels.stats.power as smp"
   ]
  },
  {
   "cell_type": "code",
   "execution_count": 18,
   "id": "e3163561-5621-4a13-8f9e-721a73bcf1af",
   "metadata": {},
   "outputs": [],
   "source": [
    "C_mean = control.retention_7.values.mean()\n",
    "T_mean = test.retention_7.values.mean()\n",
    "\n",
    "C_std = control.retention_7.values.std()\n",
    "T_std = test.retention_7.values.std()"
   ]
  },
  {
   "cell_type": "code",
   "execution_count": 19,
   "id": "178dae8c-1236-417e-99ce-3bf0f51d503c",
   "metadata": {},
   "outputs": [],
   "source": [
    "n =  len(control.retention_7.values)"
   ]
  },
  {
   "cell_type": "code",
   "execution_count": 20,
   "id": "1add599c-17a7-498d-ac06-a4664a641365",
   "metadata": {},
   "outputs": [],
   "source": [
    "##S = np.sqrt((sd_t**2 / n_t) + (sd_c**2 / n_c))\n",
    "\n",
    "S = np.sqrt((T_std**2 + C_std **2)/ 2)"
   ]
  },
  {
   "cell_type": "code",
   "execution_count": 21,
   "id": "8c6a1c49-9d92-47c3-9fe3-9cdd8515d25b",
   "metadata": {},
   "outputs": [],
   "source": [
    "ef =float((T_mean-C_mean)/ S) "
   ]
  },
  {
   "cell_type": "code",
   "execution_count": 22,
   "id": "70771ccd-cadd-41de-a4c9-6164d234fdac",
   "metadata": {},
   "outputs": [
    {
     "data": {
      "text/plain": [
       "0.8830917611540544"
      ]
     },
     "execution_count": 22,
     "metadata": {},
     "output_type": "execute_result"
    }
   ],
   "source": [
    "# parameters for power analysis\n",
    "alpha = 0.05\n",
    "\n",
    "# perform power analysis\n",
    "power = smp.zt_ind_solve_power(effect_size=ef, nobs1=n, alpha=alpha, alternative='two-sided')\n",
    "power"
   ]
  },
  {
   "cell_type": "markdown",
   "id": "e88b65bb-e4ce-41a6-8dcd-4930614cfd3e",
   "metadata": {},
   "source": [
    "Moщность теста для retention_7 составила 88,3% - что вполне достачно."
   ]
  },
  {
   "cell_type": "markdown",
   "id": "3f7bc22d-93c4-4aa1-aef3-c4cc7bd06193",
   "metadata": {},
   "source": [
    "### Итог"
   ]
  },
  {
   "cell_type": "markdown",
   "id": "a4bbbce7-deb1-490f-b94a-118e62981280",
   "metadata": {},
   "source": [
    "__*По результатам тестов можно сказать что альтернативная/тестовая версия более предпочтительна для привлечения игроков на более длительный срок.*__"
   ]
  }
 ],
 "metadata": {
  "kernelspec": {
   "display_name": "Python 3 (ipykernel)",
   "language": "python",
   "name": "python3"
  },
  "language_info": {
   "codemirror_mode": {
    "name": "ipython",
    "version": 3
   },
   "file_extension": ".py",
   "mimetype": "text/x-python",
   "name": "python",
   "nbconvert_exporter": "python",
   "pygments_lexer": "ipython3",
   "version": "3.11.2"
  }
 },
 "nbformat": 4,
 "nbformat_minor": 5
}
