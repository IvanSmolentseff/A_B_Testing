{
 "cells": [
  {
   "cell_type": "markdown",
   "id": "dcc984e4-6a32-4f80-a8bf-746ab1464bd8",
   "metadata": {},
   "source": [
    "# Урок 8. Python применение статистических критериев на практике - пайплайн оценки A/B\r\n",
    "На сайте запущен А/В тест с целью увеличить доход  В приложенном excel файле вы найдете сырые данные по результатам эксперимента – user_id, тип выборки variant_name и доход принесенный пользователем revenu. \r\n",
    "Проанализируйте результаты эксперимента и напишите свои рекомендации менеджеру."
   ]
  },
  {
   "cell_type": "markdown",
   "id": "77e51ada-613f-4be6-8fd2-fd612129ba3b",
   "metadata": {},
   "source": [
    "*__Подготовка данных.__*"
   ]
  },
  {
   "cell_type": "code",
   "execution_count": 1,
   "id": "658a11df-8a70-47b9-8d0d-df3f766ab5be",
   "metadata": {},
   "outputs": [],
   "source": [
    "import numpy as np\n",
    "import matplotlib.pyplot as plt\n",
    "import seaborn as sns\n",
    "import pandas as pd\n",
    "\n",
    "import warnings\n",
    "warnings.filterwarnings('ignore')\n",
    "warnings.warn('DelftStack')\n",
    "warnings.warn('Do not show this message')"
   ]
  },
  {
   "cell_type": "code",
   "execution_count": 2,
   "id": "260535d8-808f-44b5-829c-42f90cf56ae1",
   "metadata": {},
   "outputs": [
    {
     "data": {
      "text/html": [
       "<div>\n",
       "<style scoped>\n",
       "    .dataframe tbody tr th:only-of-type {\n",
       "        vertical-align: middle;\n",
       "    }\n",
       "\n",
       "    .dataframe tbody tr th {\n",
       "        vertical-align: top;\n",
       "    }\n",
       "\n",
       "    .dataframe thead th {\n",
       "        text-align: right;\n",
       "    }\n",
       "</style>\n",
       "<table border=\"1\" class=\"dataframe\">\n",
       "  <thead>\n",
       "    <tr style=\"text-align: right;\">\n",
       "      <th></th>\n",
       "      <th>USER_ID</th>\n",
       "      <th>VARIANT_NAME</th>\n",
       "      <th>REVENUE</th>\n",
       "    </tr>\n",
       "  </thead>\n",
       "  <tbody>\n",
       "    <tr>\n",
       "      <th>0</th>\n",
       "      <td>737</td>\n",
       "      <td>variant</td>\n",
       "      <td>0.0</td>\n",
       "    </tr>\n",
       "    <tr>\n",
       "      <th>1</th>\n",
       "      <td>2423</td>\n",
       "      <td>control</td>\n",
       "      <td>0.0</td>\n",
       "    </tr>\n",
       "    <tr>\n",
       "      <th>2</th>\n",
       "      <td>9411</td>\n",
       "      <td>control</td>\n",
       "      <td>0.0</td>\n",
       "    </tr>\n",
       "    <tr>\n",
       "      <th>3</th>\n",
       "      <td>7311</td>\n",
       "      <td>control</td>\n",
       "      <td>0.0</td>\n",
       "    </tr>\n",
       "    <tr>\n",
       "      <th>4</th>\n",
       "      <td>6174</td>\n",
       "      <td>variant</td>\n",
       "      <td>0.0</td>\n",
       "    </tr>\n",
       "    <tr>\n",
       "      <th>5</th>\n",
       "      <td>2380</td>\n",
       "      <td>variant</td>\n",
       "      <td>0.0</td>\n",
       "    </tr>\n",
       "    <tr>\n",
       "      <th>6</th>\n",
       "      <td>2849</td>\n",
       "      <td>control</td>\n",
       "      <td>0.0</td>\n",
       "    </tr>\n",
       "    <tr>\n",
       "      <th>7</th>\n",
       "      <td>9168</td>\n",
       "      <td>control</td>\n",
       "      <td>0.0</td>\n",
       "    </tr>\n",
       "    <tr>\n",
       "      <th>8</th>\n",
       "      <td>6205</td>\n",
       "      <td>variant</td>\n",
       "      <td>0.0</td>\n",
       "    </tr>\n",
       "    <tr>\n",
       "      <th>9</th>\n",
       "      <td>7548</td>\n",
       "      <td>control</td>\n",
       "      <td>0.0</td>\n",
       "    </tr>\n",
       "  </tbody>\n",
       "</table>\n",
       "</div>"
      ],
      "text/plain": [
       "   USER_ID VARIANT_NAME  REVENUE\n",
       "0      737      variant      0.0\n",
       "1     2423      control      0.0\n",
       "2     9411      control      0.0\n",
       "3     7311      control      0.0\n",
       "4     6174      variant      0.0\n",
       "5     2380      variant      0.0\n",
       "6     2849      control      0.0\n",
       "7     9168      control      0.0\n",
       "8     6205      variant      0.0\n",
       "9     7548      control      0.0"
      ]
     },
     "execution_count": 2,
     "metadata": {},
     "output_type": "execute_result"
    }
   ],
   "source": [
    "data = pd.read_excel('AB_Test_Results (2).xlsx')\n",
    "\n",
    "data.head(10)"
   ]
  },
  {
   "cell_type": "code",
   "execution_count": 3,
   "id": "b3f5c687-f8c7-4f26-ba3e-f31212a68365",
   "metadata": {},
   "outputs": [
    {
     "name": "stdout",
     "output_type": "stream",
     "text": [
      "<class 'pandas.core.frame.DataFrame'>\n",
      "RangeIndex: 10000 entries, 0 to 9999\n",
      "Data columns (total 3 columns):\n",
      " #   Column        Non-Null Count  Dtype  \n",
      "---  ------        --------------  -----  \n",
      " 0   USER_ID       10000 non-null  int64  \n",
      " 1   VARIANT_NAME  10000 non-null  object \n",
      " 2   REVENUE       10000 non-null  float64\n",
      "dtypes: float64(1), int64(1), object(1)\n",
      "memory usage: 234.5+ KB\n"
     ]
    }
   ],
   "source": [
    "data.info()"
   ]
  },
  {
   "cell_type": "code",
   "execution_count": 4,
   "id": "2d1ba913-43dd-4601-9b4a-0150af367742",
   "metadata": {},
   "outputs": [
    {
     "data": {
      "text/html": [
       "<div>\n",
       "<style scoped>\n",
       "    .dataframe tbody tr th:only-of-type {\n",
       "        vertical-align: middle;\n",
       "    }\n",
       "\n",
       "    .dataframe tbody tr th {\n",
       "        vertical-align: top;\n",
       "    }\n",
       "\n",
       "    .dataframe thead th {\n",
       "        text-align: right;\n",
       "    }\n",
       "</style>\n",
       "<table border=\"1\" class=\"dataframe\">\n",
       "  <thead>\n",
       "    <tr style=\"text-align: right;\">\n",
       "      <th></th>\n",
       "      <th>USER_ID</th>\n",
       "      <th>REVENUE</th>\n",
       "    </tr>\n",
       "  </thead>\n",
       "  <tbody>\n",
       "    <tr>\n",
       "      <th>count</th>\n",
       "      <td>10000.000000</td>\n",
       "      <td>10000.000000</td>\n",
       "    </tr>\n",
       "    <tr>\n",
       "      <th>mean</th>\n",
       "      <td>4981.080200</td>\n",
       "      <td>0.099447</td>\n",
       "    </tr>\n",
       "    <tr>\n",
       "      <th>std</th>\n",
       "      <td>2890.590115</td>\n",
       "      <td>2.318529</td>\n",
       "    </tr>\n",
       "    <tr>\n",
       "      <th>min</th>\n",
       "      <td>2.000000</td>\n",
       "      <td>0.000000</td>\n",
       "    </tr>\n",
       "    <tr>\n",
       "      <th>25%</th>\n",
       "      <td>2468.750000</td>\n",
       "      <td>0.000000</td>\n",
       "    </tr>\n",
       "    <tr>\n",
       "      <th>50%</th>\n",
       "      <td>4962.000000</td>\n",
       "      <td>0.000000</td>\n",
       "    </tr>\n",
       "    <tr>\n",
       "      <th>75%</th>\n",
       "      <td>7511.500000</td>\n",
       "      <td>0.000000</td>\n",
       "    </tr>\n",
       "    <tr>\n",
       "      <th>max</th>\n",
       "      <td>10000.000000</td>\n",
       "      <td>196.010000</td>\n",
       "    </tr>\n",
       "  </tbody>\n",
       "</table>\n",
       "</div>"
      ],
      "text/plain": [
       "            USER_ID       REVENUE\n",
       "count  10000.000000  10000.000000\n",
       "mean    4981.080200      0.099447\n",
       "std     2890.590115      2.318529\n",
       "min        2.000000      0.000000\n",
       "25%     2468.750000      0.000000\n",
       "50%     4962.000000      0.000000\n",
       "75%     7511.500000      0.000000\n",
       "max    10000.000000    196.010000"
      ]
     },
     "execution_count": 4,
     "metadata": {},
     "output_type": "execute_result"
    }
   ],
   "source": [
    "data.describe()"
   ]
  },
  {
   "cell_type": "code",
   "execution_count": 5,
   "id": "cf2953a1-71eb-4151-8046-97cece24a45a",
   "metadata": {},
   "outputs": [
    {
     "data": {
      "text/plain": [
       "USER_ID         0\n",
       "VARIANT_NAME    0\n",
       "REVENUE         0\n",
       "dtype: int64"
      ]
     },
     "execution_count": 5,
     "metadata": {},
     "output_type": "execute_result"
    }
   ],
   "source": [
    "data.isna().sum()"
   ]
  },
  {
   "cell_type": "code",
   "execution_count": 6,
   "id": "411b87fd-febb-48bf-8313-2683b3937b8d",
   "metadata": {},
   "outputs": [
    {
     "data": {
      "text/plain": [
       "VARIANT_NAME\n",
       "variant    5016\n",
       "control    4984\n",
       "Name: count, dtype: int64"
      ]
     },
     "execution_count": 6,
     "metadata": {},
     "output_type": "execute_result"
    }
   ],
   "source": [
    "data.VARIANT_NAME.value_counts()"
   ]
  },
  {
   "cell_type": "markdown",
   "id": "51fa0143-ba45-4b03-980f-a1fedfc40253",
   "metadata": {},
   "source": [
    "__*Посмотрим на группы отдельно*__"
   ]
  },
  {
   "cell_type": "code",
   "execution_count": 7,
   "id": "826b9646-a0be-4a8c-8094-14e030c4fbf2",
   "metadata": {},
   "outputs": [
    {
     "data": {
      "text/html": [
       "<div>\n",
       "<style scoped>\n",
       "    .dataframe tbody tr th:only-of-type {\n",
       "        vertical-align: middle;\n",
       "    }\n",
       "\n",
       "    .dataframe tbody tr th {\n",
       "        vertical-align: top;\n",
       "    }\n",
       "\n",
       "    .dataframe thead th {\n",
       "        text-align: right;\n",
       "    }\n",
       "</style>\n",
       "<table border=\"1\" class=\"dataframe\">\n",
       "  <thead>\n",
       "    <tr style=\"text-align: right;\">\n",
       "      <th></th>\n",
       "      <th>USER_ID</th>\n",
       "      <th>REVENUE</th>\n",
       "    </tr>\n",
       "  </thead>\n",
       "  <tbody>\n",
       "    <tr>\n",
       "      <th>count</th>\n",
       "      <td>4984.000000</td>\n",
       "      <td>4984.000000</td>\n",
       "    </tr>\n",
       "    <tr>\n",
       "      <th>mean</th>\n",
       "      <td>4989.436798</td>\n",
       "      <td>0.129013</td>\n",
       "    </tr>\n",
       "    <tr>\n",
       "      <th>std</th>\n",
       "      <td>2905.145109</td>\n",
       "      <td>3.007524</td>\n",
       "    </tr>\n",
       "    <tr>\n",
       "      <th>min</th>\n",
       "      <td>2.000000</td>\n",
       "      <td>0.000000</td>\n",
       "    </tr>\n",
       "    <tr>\n",
       "      <th>25%</th>\n",
       "      <td>2466.000000</td>\n",
       "      <td>0.000000</td>\n",
       "    </tr>\n",
       "    <tr>\n",
       "      <th>50%</th>\n",
       "      <td>4964.500000</td>\n",
       "      <td>0.000000</td>\n",
       "    </tr>\n",
       "    <tr>\n",
       "      <th>75%</th>\n",
       "      <td>7576.250000</td>\n",
       "      <td>0.000000</td>\n",
       "    </tr>\n",
       "    <tr>\n",
       "      <th>max</th>\n",
       "      <td>10000.000000</td>\n",
       "      <td>196.010000</td>\n",
       "    </tr>\n",
       "  </tbody>\n",
       "</table>\n",
       "</div>"
      ],
      "text/plain": [
       "            USER_ID      REVENUE\n",
       "count   4984.000000  4984.000000\n",
       "mean    4989.436798     0.129013\n",
       "std     2905.145109     3.007524\n",
       "min        2.000000     0.000000\n",
       "25%     2466.000000     0.000000\n",
       "50%     4964.500000     0.000000\n",
       "75%     7576.250000     0.000000\n",
       "max    10000.000000   196.010000"
      ]
     },
     "execution_count": 7,
     "metadata": {},
     "output_type": "execute_result"
    }
   ],
   "source": [
    "data[data['VARIANT_NAME']=='control'].describe()"
   ]
  },
  {
   "cell_type": "code",
   "execution_count": 8,
   "id": "c16a788d-67d8-41a4-96e9-32a6d2f52d0f",
   "metadata": {},
   "outputs": [
    {
     "data": {
      "text/html": [
       "<div>\n",
       "<style scoped>\n",
       "    .dataframe tbody tr th:only-of-type {\n",
       "        vertical-align: middle;\n",
       "    }\n",
       "\n",
       "    .dataframe tbody tr th {\n",
       "        vertical-align: top;\n",
       "    }\n",
       "\n",
       "    .dataframe thead th {\n",
       "        text-align: right;\n",
       "    }\n",
       "</style>\n",
       "<table border=\"1\" class=\"dataframe\">\n",
       "  <thead>\n",
       "    <tr style=\"text-align: right;\">\n",
       "      <th></th>\n",
       "      <th>USER_ID</th>\n",
       "      <th>REVENUE</th>\n",
       "    </tr>\n",
       "  </thead>\n",
       "  <tbody>\n",
       "    <tr>\n",
       "      <th>count</th>\n",
       "      <td>5016.000000</td>\n",
       "      <td>5016.000000</td>\n",
       "    </tr>\n",
       "    <tr>\n",
       "      <th>mean</th>\n",
       "      <td>4972.776914</td>\n",
       "      <td>0.070070</td>\n",
       "    </tr>\n",
       "    <tr>\n",
       "      <th>std</th>\n",
       "      <td>2876.320625</td>\n",
       "      <td>1.314802</td>\n",
       "    </tr>\n",
       "    <tr>\n",
       "      <th>min</th>\n",
       "      <td>3.000000</td>\n",
       "      <td>0.000000</td>\n",
       "    </tr>\n",
       "    <tr>\n",
       "      <th>25%</th>\n",
       "      <td>2476.500000</td>\n",
       "      <td>0.000000</td>\n",
       "    </tr>\n",
       "    <tr>\n",
       "      <th>50%</th>\n",
       "      <td>4958.500000</td>\n",
       "      <td>0.000000</td>\n",
       "    </tr>\n",
       "    <tr>\n",
       "      <th>75%</th>\n",
       "      <td>7415.250000</td>\n",
       "      <td>0.000000</td>\n",
       "    </tr>\n",
       "    <tr>\n",
       "      <th>max</th>\n",
       "      <td>10000.000000</td>\n",
       "      <td>58.630000</td>\n",
       "    </tr>\n",
       "  </tbody>\n",
       "</table>\n",
       "</div>"
      ],
      "text/plain": [
       "            USER_ID      REVENUE\n",
       "count   5016.000000  5016.000000\n",
       "mean    4972.776914     0.070070\n",
       "std     2876.320625     1.314802\n",
       "min        3.000000     0.000000\n",
       "25%     2476.500000     0.000000\n",
       "50%     4958.500000     0.000000\n",
       "75%     7415.250000     0.000000\n",
       "max    10000.000000    58.630000"
      ]
     },
     "execution_count": 8,
     "metadata": {},
     "output_type": "execute_result"
    }
   ],
   "source": [
    "data[data['VARIANT_NAME']=='variant'].describe()"
   ]
  },
  {
   "cell_type": "markdown",
   "id": "bdd12afc-56e4-4ad3-b8a5-d81330547a84",
   "metadata": {},
   "source": [
    "Пока мы еще ничего не посчитали, но уже можно заметить, что максимальный чек в control группе сильно больше, чем в группе variant. Все мы знаем, что среднее очень неустойчиво к выбросам, так что нам необходимо будет это учесть."
   ]
  },
  {
   "cell_type": "markdown",
   "id": "2b11d2b0-78bf-4d3a-a24b-4182f8d42f85",
   "metadata": {},
   "source": [
    "__*Избавимся от некорретных строк. Посчитаем, сколько типов встречается у каждого пользователя.*__"
   ]
  },
  {
   "cell_type": "code",
   "execution_count": 9,
   "id": "88923d60-499c-4943-b6b4-9392f778dee3",
   "metadata": {},
   "outputs": [
    {
     "data": {
      "text/html": [
       "<div>\n",
       "<style scoped>\n",
       "    .dataframe tbody tr th:only-of-type {\n",
       "        vertical-align: middle;\n",
       "    }\n",
       "\n",
       "    .dataframe tbody tr th {\n",
       "        vertical-align: top;\n",
       "    }\n",
       "\n",
       "    .dataframe thead th {\n",
       "        text-align: right;\n",
       "    }\n",
       "</style>\n",
       "<table border=\"1\" class=\"dataframe\">\n",
       "  <thead>\n",
       "    <tr style=\"text-align: right;\">\n",
       "      <th></th>\n",
       "      <th>USER_ID</th>\n",
       "      <th>VARIANT_NAME</th>\n",
       "    </tr>\n",
       "  </thead>\n",
       "  <tbody>\n",
       "    <tr>\n",
       "      <th>0</th>\n",
       "      <td>2</td>\n",
       "      <td>1</td>\n",
       "    </tr>\n",
       "    <tr>\n",
       "      <th>1</th>\n",
       "      <td>3</td>\n",
       "      <td>2</td>\n",
       "    </tr>\n",
       "    <tr>\n",
       "      <th>2</th>\n",
       "      <td>4</td>\n",
       "      <td>1</td>\n",
       "    </tr>\n",
       "    <tr>\n",
       "      <th>3</th>\n",
       "      <td>5</td>\n",
       "      <td>1</td>\n",
       "    </tr>\n",
       "    <tr>\n",
       "      <th>4</th>\n",
       "      <td>6</td>\n",
       "      <td>1</td>\n",
       "    </tr>\n",
       "    <tr>\n",
       "      <th>5</th>\n",
       "      <td>9</td>\n",
       "      <td>1</td>\n",
       "    </tr>\n",
       "    <tr>\n",
       "      <th>6</th>\n",
       "      <td>10</td>\n",
       "      <td>2</td>\n",
       "    </tr>\n",
       "    <tr>\n",
       "      <th>7</th>\n",
       "      <td>11</td>\n",
       "      <td>1</td>\n",
       "    </tr>\n",
       "    <tr>\n",
       "      <th>8</th>\n",
       "      <td>12</td>\n",
       "      <td>1</td>\n",
       "    </tr>\n",
       "    <tr>\n",
       "      <th>9</th>\n",
       "      <td>13</td>\n",
       "      <td>1</td>\n",
       "    </tr>\n",
       "  </tbody>\n",
       "</table>\n",
       "</div>"
      ],
      "text/plain": [
       "   USER_ID  VARIANT_NAME\n",
       "0        2             1\n",
       "1        3             2\n",
       "2        4             1\n",
       "3        5             1\n",
       "4        6             1\n",
       "5        9             1\n",
       "6       10             2\n",
       "7       11             1\n",
       "8       12             1\n",
       "9       13             1"
      ]
     },
     "execution_count": 9,
     "metadata": {},
     "output_type": "execute_result"
    }
   ],
   "source": [
    "v = data.\\\n",
    "    groupby('USER_ID', as_index=False).\\\n",
    "    agg({'VARIANT_NAME': pd.Series.nunique})\n",
    "\n",
    "v.head(10)"
   ]
  },
  {
   "cell_type": "code",
   "execution_count": 10,
   "id": "1f39b395-3a75-4c85-9701-1f182ca24bfc",
   "metadata": {},
   "outputs": [
    {
     "data": {
      "text/plain": [
       "(6070, 3)"
      ]
     },
     "execution_count": 10,
     "metadata": {},
     "output_type": "execute_result"
    }
   ],
   "source": [
    "more_than_one_types = v.query('VARIANT_NAME > 1')\n",
    "data_new = data[~data.USER_ID.isin(more_than_one_types.USER_ID)].sort_values('USER_ID')\n",
    "data_new.shape"
   ]
  },
  {
   "cell_type": "code",
   "execution_count": 11,
   "id": "e3a51cb9-4ea8-49fd-afdc-b7a2aec467f6",
   "metadata": {},
   "outputs": [
    {
     "data": {
      "text/plain": [
       "VARIANT_NAME\n",
       "variant    3044\n",
       "control    3026\n",
       "Name: count, dtype: int64"
      ]
     },
     "execution_count": 11,
     "metadata": {},
     "output_type": "execute_result"
    }
   ],
   "source": [
    "data_new.VARIANT_NAME.value_counts()"
   ]
  },
  {
   "cell_type": "markdown",
   "id": "c097aa5f-f3fb-4657-b0ac-54826f31eb04",
   "metadata": {},
   "source": [
    "Уже видно, что почти 4 тысячи юзеров попали в обе группы. Это вызывает вопросы к сплитовалке и к результатам самого теста в целом."
   ]
  },
  {
   "cell_type": "markdown",
   "id": "2fba7f1c-77ed-4fed-8073-7475fafe165a",
   "metadata": {},
   "source": [
    "__*Проверка на нормальность распределения и применение статистических критериев*__"
   ]
  },
  {
   "cell_type": "markdown",
   "id": "b1eb77c1-eb3b-4b82-94e0-d3b20c32c6a8",
   "metadata": {},
   "source": [
    "Так как выборки менее 5 тысяч, применим для проверки на нормальность тест Шапиро-Уилка"
   ]
  },
  {
   "cell_type": "code",
   "execution_count": 12,
   "id": "46d7b95f-e395-4eda-b251-81856707cfad",
   "metadata": {},
   "outputs": [
    {
     "name": "stdout",
     "output_type": "stream",
     "text": [
      "Distribution is not normal\n",
      "\n"
     ]
    }
   ],
   "source": [
    "from scipy.stats import shapiro\n",
    "\n",
    "alpha = 0.05\n",
    "st = shapiro(data_new.REVENUE)\n",
    "print('Distribution is {}normal\\n'.format( {True:'not ',\n",
    "False:''}[st[1] < alpha]));\n"
   ]
  },
  {
   "cell_type": "code",
   "execution_count": 13,
   "id": "86cd6f15-bd16-4162-a814-c1c95c693e48",
   "metadata": {},
   "outputs": [
    {
     "data": {
      "image/png": "[encoded data removed]",
      "text/plain": [
       "<Figure size 640x480 with 1 Axes>"
      ]
     },
     "metadata": {},
     "output_type": "display_data"
    }
   ],
   "source": [
    "data_new['REVENUE'][data_new['VARIANT_NAME'] == 'control'].hist(bins = 25, alpha =0.7, label='Control')\n",
    "data_new['REVENUE'][data_new['VARIANT_NAME'] == 'variant'].hist(bins = 25, alpha =0.7, label='Test')\n",
    "plt.title('Доход от юзеров по группам')\n",
    "plt.xlabel('Доход')\n",
    "plt.ylabel('Число пользователей')\n",
    "plt.legend();"
   ]
  },
  {
   "cell_type": "markdown",
   "id": "40faa988-d9ff-4c9f-ad66-bdc9d187c201",
   "metadata": {},
   "source": [
    "И тест и гистограмма показывают, что распределение не нормально."
   ]
  },
  {
   "cell_type": "markdown",
   "id": "3cf6299c-cde8-4ce7-a76a-f12b4fa9b3ce",
   "metadata": {},
   "source": [
    "<img src=\"https://lit-review.ru/wp-content/uploads/2018/04/vibor_stat_kriteria-1024x774.png\"/>"
   ]
  },
  {
   "cell_type": "markdown",
   "id": "6a0035b2-473b-4c15-a8af-14819dd3b8ec",
   "metadata": {},
   "source": [
    "Следуя таблице для дальнйшей оценки теста применим критерий Манна-Уитни"
   ]
  },
  {
   "cell_type": "code",
   "execution_count": 14,
   "id": "a61b37e4-8669-4031-8a75-e3b13712c437",
   "metadata": {},
   "outputs": [
    {
     "data": {
      "text/html": [
       "<div>\n",
       "<style scoped>\n",
       "    .dataframe tbody tr th:only-of-type {\n",
       "        vertical-align: middle;\n",
       "    }\n",
       "\n",
       "    .dataframe tbody tr th {\n",
       "        vertical-align: top;\n",
       "    }\n",
       "\n",
       "    .dataframe thead th {\n",
       "        text-align: right;\n",
       "    }\n",
       "</style>\n",
       "<table border=\"1\" class=\"dataframe\">\n",
       "  <thead>\n",
       "    <tr style=\"text-align: right;\">\n",
       "      <th></th>\n",
       "      <th>count</th>\n",
       "      <th>mean</th>\n",
       "      <th>std</th>\n",
       "      <th>min</th>\n",
       "      <th>25%</th>\n",
       "      <th>50%</th>\n",
       "      <th>75%</th>\n",
       "      <th>max</th>\n",
       "    </tr>\n",
       "    <tr>\n",
       "      <th>VARIANT_NAME</th>\n",
       "      <th></th>\n",
       "      <th></th>\n",
       "      <th></th>\n",
       "      <th></th>\n",
       "      <th></th>\n",
       "      <th></th>\n",
       "      <th></th>\n",
       "      <th></th>\n",
       "    </tr>\n",
       "  </thead>\n",
       "  <tbody>\n",
       "    <tr>\n",
       "      <th>control</th>\n",
       "      <td>3026.0</td>\n",
       "      <td>0.155506</td>\n",
       "      <td>3.708620</td>\n",
       "      <td>0.0</td>\n",
       "      <td>0.0</td>\n",
       "      <td>0.0</td>\n",
       "      <td>0.0</td>\n",
       "      <td>196.01</td>\n",
       "    </tr>\n",
       "    <tr>\n",
       "      <th>variant</th>\n",
       "      <td>3044.0</td>\n",
       "      <td>0.058909</td>\n",
       "      <td>0.760344</td>\n",
       "      <td>0.0</td>\n",
       "      <td>0.0</td>\n",
       "      <td>0.0</td>\n",
       "      <td>0.0</td>\n",
       "      <td>23.04</td>\n",
       "    </tr>\n",
       "  </tbody>\n",
       "</table>\n",
       "</div>"
      ],
      "text/plain": [
       "               count      mean       std  min  25%  50%  75%     max\n",
       "VARIANT_NAME                                                        \n",
       "control       3026.0  0.155506  3.708620  0.0  0.0  0.0  0.0  196.01\n",
       "variant       3044.0  0.058909  0.760344  0.0  0.0  0.0  0.0   23.04"
      ]
     },
     "execution_count": 14,
     "metadata": {},
     "output_type": "execute_result"
    }
   ],
   "source": [
    "data_new.groupby('VARIANT_NAME')['REVENUE'].describe()"
   ]
  },
  {
   "cell_type": "code",
   "execution_count": 15,
   "id": "0d1d5c03-40df-4a93-9a84-9b77dd571d0a",
   "metadata": {},
   "outputs": [
    {
     "data": {
      "text/plain": [
       "MannwhitneyuResult(statistic=4622832.0, pvalue=0.2444173738649208)"
      ]
     },
     "execution_count": 15,
     "metadata": {},
     "output_type": "execute_result"
    }
   ],
   "source": [
    "from scipy.stats import mannwhitneyu\n",
    "\n",
    "mw_stats = mannwhitneyu(x=data_new[(data_new['VARIANT_NAME'] == 'control')]['REVENUE'].values,\n",
    "                                                  y=data_new[(data_new['VARIANT_NAME'] == 'variant')]['REVENUE'].values)\n",
    "mw_stats"
   ]
  },
  {
   "cell_type": "markdown",
   "id": "c74d0f5e-f860-4485-954b-f6c6ff534344",
   "metadata": {},
   "source": [
    "### Итог"
   ]
  },
  {
   "cell_type": "markdown",
   "id": "ba9877c3-4cec-4b62-9a7f-f2cda75e7b84",
   "metadata": {},
   "source": [
    "__pvalue > 0.05__  \n",
    "__*Статистически значимой разницы между выборками не обнаружено. Остаёмся на контрольной/начальной версии продукта.*__\n"
   ]
  }
 ],
 "metadata": {
  "kernelspec": {
   "display_name": "Python 3 (ipykernel)",
   "language": "python",
   "name": "python3"
  },
  "language_info": {
   "codemirror_mode": {
    "name": "ipython",
    "version": 3
   },
   "file_extension": ".py",
   "mimetype": "text/x-python",
   "name": "python",
   "nbconvert_exporter": "python",
   "pygments_lexer": "ipython3",
   "version": "3.11.2"
  }
 },
 "nbformat": 4,
 "nbformat_minor": 5
}
